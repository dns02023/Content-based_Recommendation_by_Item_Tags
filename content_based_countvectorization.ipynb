{
 "cells": [
  {
   "cell_type": "code",
   "execution_count": 1,
   "metadata": {},
   "outputs": [],
   "source": [
    "import pandas as pd\n",
    "import numpy as np\n",
    "from sklearn.metrics.pairwise import cosine_similarity\n",
    "from sklearn.feature_extraction.text import CountVectorizer"
   ]
  },
  {
   "cell_type": "code",
   "execution_count": 2,
   "metadata": {},
   "outputs": [
    {
     "data": {
      "text/html": [
       "<div>\n",
       "<style scoped>\n",
       "    .dataframe tbody tr th:only-of-type {\n",
       "        vertical-align: middle;\n",
       "    }\n",
       "\n",
       "    .dataframe tbody tr th {\n",
       "        vertical-align: top;\n",
       "    }\n",
       "\n",
       "    .dataframe thead th {\n",
       "        text-align: right;\n",
       "    }\n",
       "</style>\n",
       "<table border=\"1\" class=\"dataframe\">\n",
       "  <thead>\n",
       "    <tr style=\"text-align: right;\">\n",
       "      <th></th>\n",
       "      <th>Unnamed: 0</th>\n",
       "      <th>이름</th>\n",
       "      <th>코드</th>\n",
       "      <th>태그</th>\n",
       "    </tr>\n",
       "  </thead>\n",
       "  <tbody>\n",
       "    <tr>\n",
       "      <th>0</th>\n",
       "      <td>0</td>\n",
       "      <td>고른햇살</td>\n",
       "      <td>Num=a_nam_0002</td>\n",
       "      <td>#먹어야산다#분식#정대후문#포장#혼밥#가성비</td>\n",
       "    </tr>\n",
       "    <tr>\n",
       "      <th>1</th>\n",
       "      <td>1</td>\n",
       "      <td>영철버거</td>\n",
       "      <td>Num=a_nam_0041</td>\n",
       "      <td>#먹어야산다#이공계#경양식#버거#맥주#치킨#가성비#저렴#포장</td>\n",
       "    </tr>\n",
       "  </tbody>\n",
       "</table>\n",
       "</div>"
      ],
      "text/plain": [
       "   Unnamed: 0    이름              코드                                 태그\n",
       "0           0  고른햇살  Num=a_nam_0002           #먹어야산다#분식#정대후문#포장#혼밥#가성비\n",
       "1           1  영철버거  Num=a_nam_0041  #먹어야산다#이공계#경양식#버거#맥주#치킨#가성비#저렴#포장"
      ]
     },
     "execution_count": 2,
     "metadata": {},
     "output_type": "execute_result"
    }
   ],
   "source": [
    "place=pd.read_csv(\"place_data.csv\")\n",
    "place.head(2)"
   ]
  },
  {
   "cell_type": "code",
   "execution_count": 3,
   "metadata": {},
   "outputs": [
    {
     "data": {
      "text/plain": [
       "(465, 4)"
      ]
     },
     "execution_count": 3,
     "metadata": {},
     "output_type": "execute_result"
    }
   ],
   "source": [
    "place.shape"
   ]
  },
  {
   "cell_type": "code",
   "execution_count": 4,
   "metadata": {
    "scrolled": true
   },
   "outputs": [
    {
     "data": {
      "text/plain": [
       "pandas.core.series.Series"
      ]
     },
     "execution_count": 4,
     "metadata": {},
     "output_type": "execute_result"
    }
   ],
   "source": [
    "type(place['태그'])"
   ]
  },
  {
   "cell_type": "code",
   "execution_count": 5,
   "metadata": {},
   "outputs": [
    {
     "data": {
      "text/html": [
       "<div>\n",
       "<style scoped>\n",
       "    .dataframe tbody tr th:only-of-type {\n",
       "        vertical-align: middle;\n",
       "    }\n",
       "\n",
       "    .dataframe tbody tr th {\n",
       "        vertical-align: top;\n",
       "    }\n",
       "\n",
       "    .dataframe thead th {\n",
       "        text-align: right;\n",
       "    }\n",
       "</style>\n",
       "<table border=\"1\" class=\"dataframe\">\n",
       "  <thead>\n",
       "    <tr style=\"text-align: right;\">\n",
       "      <th></th>\n",
       "      <th>Unnamed: 0</th>\n",
       "      <th>이름</th>\n",
       "      <th>코드</th>\n",
       "      <th>태그</th>\n",
       "      <th>tag</th>\n",
       "    </tr>\n",
       "  </thead>\n",
       "  <tbody>\n",
       "    <tr>\n",
       "      <th>0</th>\n",
       "      <td>0</td>\n",
       "      <td>고른햇살</td>\n",
       "      <td>Num=a_nam_0002</td>\n",
       "      <td>#먹어야산다#분식#정대후문#포장#혼밥#가성비</td>\n",
       "      <td>#먹어야산다#분식#정대후문#포장#혼밥#가성비</td>\n",
       "    </tr>\n",
       "    <tr>\n",
       "      <th>1</th>\n",
       "      <td>1</td>\n",
       "      <td>영철버거</td>\n",
       "      <td>Num=a_nam_0041</td>\n",
       "      <td>#먹어야산다#이공계#경양식#버거#맥주#치킨#가성비#저렴#포장</td>\n",
       "      <td>#먹어야산다#이공계#경양식#버거#맥주#치킨#가성비#저렴#포장</td>\n",
       "    </tr>\n",
       "  </tbody>\n",
       "</table>\n",
       "</div>"
      ],
      "text/plain": [
       "   Unnamed: 0    이름              코드                                 태그  \\\n",
       "0           0  고른햇살  Num=a_nam_0002           #먹어야산다#분식#정대후문#포장#혼밥#가성비   \n",
       "1           1  영철버거  Num=a_nam_0041  #먹어야산다#이공계#경양식#버거#맥주#치킨#가성비#저렴#포장   \n",
       "\n",
       "                                 tag  \n",
       "0           #먹어야산다#분식#정대후문#포장#혼밥#가성비  \n",
       "1  #먹어야산다#이공계#경양식#버거#맥주#치킨#가성비#저렴#포장  "
      ]
     },
     "execution_count": 5,
     "metadata": {},
     "output_type": "execute_result"
    }
   ],
   "source": [
    "place['tag']=place['태그'].copy()\n",
    "place.head(2)"
   ]
  },
  {
   "cell_type": "code",
   "execution_count": 6,
   "metadata": {},
   "outputs": [
    {
     "data": {
      "text/plain": [
       "'#먹어야산다#분식#정대후문#포장#혼밥#가성비'"
      ]
     },
     "execution_count": 6,
     "metadata": {},
     "output_type": "execute_result"
    }
   ],
   "source": [
    "place['tag'][0]"
   ]
  },
  {
   "cell_type": "code",
   "execution_count": 7,
   "metadata": {
    "scrolled": true
   },
   "outputs": [
    {
     "data": {
      "text/html": [
       "<div>\n",
       "<style scoped>\n",
       "    .dataframe tbody tr th:only-of-type {\n",
       "        vertical-align: middle;\n",
       "    }\n",
       "\n",
       "    .dataframe tbody tr th {\n",
       "        vertical-align: top;\n",
       "    }\n",
       "\n",
       "    .dataframe thead th {\n",
       "        text-align: right;\n",
       "    }\n",
       "</style>\n",
       "<table border=\"1\" class=\"dataframe\">\n",
       "  <thead>\n",
       "    <tr style=\"text-align: right;\">\n",
       "      <th></th>\n",
       "      <th>Unnamed: 0</th>\n",
       "      <th>이름</th>\n",
       "      <th>코드</th>\n",
       "      <th>태그</th>\n",
       "      <th>tag</th>\n",
       "    </tr>\n",
       "  </thead>\n",
       "  <tbody>\n",
       "    <tr>\n",
       "      <th>0</th>\n",
       "      <td>0</td>\n",
       "      <td>고른햇살</td>\n",
       "      <td>Num=a_nam_0002</td>\n",
       "      <td>#먹어야산다#분식#정대후문#포장#혼밥#가성비</td>\n",
       "      <td>[, 먹어야산다, 분식, 정대후문, 포장, 혼밥, 가성비]</td>\n",
       "    </tr>\n",
       "    <tr>\n",
       "      <th>1</th>\n",
       "      <td>1</td>\n",
       "      <td>영철버거</td>\n",
       "      <td>Num=a_nam_0041</td>\n",
       "      <td>#먹어야산다#이공계#경양식#버거#맥주#치킨#가성비#저렴#포장</td>\n",
       "      <td>[, 먹어야산다, 이공계, 경양식, 버거, 맥주, 치킨, 가성비, 저렴, 포장]</td>\n",
       "    </tr>\n",
       "  </tbody>\n",
       "</table>\n",
       "</div>"
      ],
      "text/plain": [
       "   Unnamed: 0    이름              코드                                 태그  \\\n",
       "0           0  고른햇살  Num=a_nam_0002           #먹어야산다#분식#정대후문#포장#혼밥#가성비   \n",
       "1           1  영철버거  Num=a_nam_0041  #먹어야산다#이공계#경양식#버거#맥주#치킨#가성비#저렴#포장   \n",
       "\n",
       "                                            tag  \n",
       "0              [, 먹어야산다, 분식, 정대후문, 포장, 혼밥, 가성비]  \n",
       "1  [, 먹어야산다, 이공계, 경양식, 버거, 맥주, 치킨, 가성비, 저렴, 포장]  "
      ]
     },
     "execution_count": 7,
     "metadata": {},
     "output_type": "execute_result"
    }
   ],
   "source": [
    "#tag를 '#'기준으로 split\n",
    "\n",
    "place['tag']=place['tag'].str.split(pat=\"#\")\n",
    "place.head(2)"
   ]
  },
  {
   "cell_type": "code",
   "execution_count": 8,
   "metadata": {
    "scrolled": true
   },
   "outputs": [
    {
     "data": {
      "text/html": [
       "<div>\n",
       "<style scoped>\n",
       "    .dataframe tbody tr th:only-of-type {\n",
       "        vertical-align: middle;\n",
       "    }\n",
       "\n",
       "    .dataframe tbody tr th {\n",
       "        vertical-align: top;\n",
       "    }\n",
       "\n",
       "    .dataframe thead th {\n",
       "        text-align: right;\n",
       "    }\n",
       "</style>\n",
       "<table border=\"1\" class=\"dataframe\">\n",
       "  <thead>\n",
       "    <tr style=\"text-align: right;\">\n",
       "      <th></th>\n",
       "      <th>Unnamed: 0</th>\n",
       "      <th>이름</th>\n",
       "      <th>코드</th>\n",
       "      <th>태그</th>\n",
       "      <th>tag</th>\n",
       "    </tr>\n",
       "  </thead>\n",
       "  <tbody>\n",
       "    <tr>\n",
       "      <th>0</th>\n",
       "      <td>0</td>\n",
       "      <td>고른햇살</td>\n",
       "      <td>Num=a_nam_0002</td>\n",
       "      <td>#먹어야산다#분식#정대후문#포장#혼밥#가성비</td>\n",
       "      <td>먹어야산다 분식 정대후문 포장 혼밥 가성비</td>\n",
       "    </tr>\n",
       "    <tr>\n",
       "      <th>1</th>\n",
       "      <td>1</td>\n",
       "      <td>영철버거</td>\n",
       "      <td>Num=a_nam_0041</td>\n",
       "      <td>#먹어야산다#이공계#경양식#버거#맥주#치킨#가성비#저렴#포장</td>\n",
       "      <td>먹어야산다 이공계 경양식 버거 맥주 치킨 가성비 저렴 포장</td>\n",
       "    </tr>\n",
       "  </tbody>\n",
       "</table>\n",
       "</div>"
      ],
      "text/plain": [
       "   Unnamed: 0    이름              코드                                 태그  \\\n",
       "0           0  고른햇살  Num=a_nam_0002           #먹어야산다#분식#정대후문#포장#혼밥#가성비   \n",
       "1           1  영철버거  Num=a_nam_0041  #먹어야산다#이공계#경양식#버거#맥주#치킨#가성비#저렴#포장   \n",
       "\n",
       "                                 tag  \n",
       "0            먹어야산다 분식 정대후문 포장 혼밥 가성비  \n",
       "1   먹어야산다 이공계 경양식 버거 맥주 치킨 가성비 저렴 포장  "
      ]
     },
     "execution_count": 8,
     "metadata": {},
     "output_type": "execute_result"
    }
   ],
   "source": [
    "place['tag']=place['tag'].apply(lambda x: \" \".join(x))\n",
    "place.head(2)"
   ]
  },
  {
   "cell_type": "code",
   "execution_count": 9,
   "metadata": {
    "scrolled": false
   },
   "outputs": [
    {
     "data": {
      "text/plain": [
       "0              먹어야산다 분식 정대후문 포장 혼밥 가성비\n",
       "1     먹어야산다 이공계 경양식 버거 맥주 치킨 가성비 저렴 포장\n",
       "Name: tag, dtype: object"
      ]
     },
     "execution_count": 9,
     "metadata": {},
     "output_type": "execute_result"
    }
   ],
   "source": [
    "place.tag.head(2)"
   ]
  },
  {
   "cell_type": "code",
   "execution_count": 10,
   "metadata": {},
   "outputs": [],
   "source": [
    "count = CountVectorizer()\n",
    "count_matrix = count.fit_transform(place['tag'])"
   ]
  },
  {
   "cell_type": "code",
   "execution_count": 11,
   "metadata": {},
   "outputs": [
    {
     "data": {
      "text/plain": [
       "(465, 374)"
      ]
     },
     "execution_count": 11,
     "metadata": {},
     "output_type": "execute_result"
    }
   ],
   "source": [
    "count_matrix.shape"
   ]
  },
  {
   "cell_type": "code",
   "execution_count": 12,
   "metadata": {},
   "outputs": [
    {
     "name": "stdout",
     "output_type": "stream",
     "text": [
      "[[1.         0.40824829 0.57735027 ... 0.40824829 0.23570226 0.16666667]\n",
      " [0.40824829 1.         0.23570226 ... 0.33333333 0.19245009 0.13608276]\n",
      " [0.57735027 0.23570226 1.         ... 0.35355339 0.20412415 0.14433757]\n",
      " ...\n",
      " [0.40824829 0.33333333 0.35355339 ... 1.         0.57735027 0.40824829]\n",
      " [0.23570226 0.19245009 0.20412415 ... 0.57735027 1.         0.23570226]\n",
      " [0.16666667 0.13608276 0.14433757 ... 0.40824829 0.23570226 1.        ]]\n"
     ]
    }
   ],
   "source": [
    "#tag 코사인 유사도 계산\n",
    "cosine_sim = cosine_similarity(count_matrix, count_matrix)\n",
    "print(cosine_sim)"
   ]
  },
  {
   "cell_type": "code",
   "execution_count": 13,
   "metadata": {},
   "outputs": [
    {
     "name": "stdout",
     "output_type": "stream",
     "text": [
      "코드\n",
      "Num=a_nam_0002      0\n",
      "Num=a_nam_0041      1\n",
      "Num=a_nam_829       2\n",
      "Num=a_nam_0146      3\n",
      "Num=a_nam_0319      4\n",
      "                 ... \n",
      "Num=a_nam_897     460\n",
      "Num=a_nam_1069    461\n",
      "Num=a_nam_1104    462\n",
      "Num=a_nam_1107    463\n",
      "Num=a_nam_1198    464\n",
      "Length: 465, dtype: int64\n"
     ]
    }
   ],
   "source": [
    "indices = pd.Series(place.index, index=place.코드).drop_duplicates()\n",
    "print(indices)"
   ]
  },
  {
   "cell_type": "code",
   "execution_count": 14,
   "metadata": {},
   "outputs": [
    {
     "data": {
      "text/plain": [
       "460"
      ]
     },
     "execution_count": 14,
     "metadata": {},
     "output_type": "execute_result"
    }
   ],
   "source": [
    "indices[\"Num=a_nam_897\"]"
   ]
  },
  {
   "cell_type": "code",
   "execution_count": 15,
   "metadata": {},
   "outputs": [],
   "source": [
    "def place_REC(코드, cosine_sim=cosine_sim):\n",
    "    #입력한 코드로 부터 인덱스 가져오기\n",
    "    idx = indices[코드]\n",
    "\n",
    "    # 모든 장소에 대해서 해당 장소와의 유사도를 구하기\n",
    "    sim_scores = list(enumerate(cosine_sim[idx]))\n",
    "\n",
    "    # 유사도에 따라 장소들을 정렬\n",
    "    sim_scores = sorted(sim_scores, key=lambda x:x[1], reverse = True)\n",
    "\n",
    "    # 가장 유사한 10개의 장소를 받아옴\n",
    "    sim_scores = sim_scores[1:11]\n",
    "\n",
    "    # 가장 유사한 10개 장소의 인덱스 받아옴\n",
    "    place_indices = [i[0] for i in sim_scores]\n",
    "    \n",
    "    #기존 데이터에서 해당 인덱스의 값들을 가져온다. 그리고 스코어 열을 추가하여 코사인 유사도도 확인할 수 있게 한다.\n",
    "    result_place = place.iloc[place_indices].copy()\n",
    "    result_place['score'] = [i[1] for i in sim_scores]\n",
    "    \n",
    "    # 읽어들인 데이터에서 tag부분만 제거, 코드와 스코어만 보이게 함\n",
    "    del result_place['tag']\n",
    "\n",
    "    # 가장 유사한 10개의 장소를 반환\n",
    "    return result_place"
   ]
  },
  {
   "cell_type": "code",
   "execution_count": 20,
   "metadata": {},
   "outputs": [
    {
     "data": {
      "text/html": [
       "<div>\n",
       "<style scoped>\n",
       "    .dataframe tbody tr th:only-of-type {\n",
       "        vertical-align: middle;\n",
       "    }\n",
       "\n",
       "    .dataframe tbody tr th {\n",
       "        vertical-align: top;\n",
       "    }\n",
       "\n",
       "    .dataframe thead th {\n",
       "        text-align: right;\n",
       "    }\n",
       "</style>\n",
       "<table border=\"1\" class=\"dataframe\">\n",
       "  <thead>\n",
       "    <tr style=\"text-align: right;\">\n",
       "      <th></th>\n",
       "      <th>Unnamed: 0</th>\n",
       "      <th>이름</th>\n",
       "      <th>코드</th>\n",
       "      <th>태그</th>\n",
       "      <th>score</th>\n",
       "    </tr>\n",
       "  </thead>\n",
       "  <tbody>\n",
       "    <tr>\n",
       "      <th>183</th>\n",
       "      <td>183</td>\n",
       "      <td>비야 이공후문</td>\n",
       "      <td>Num=a_nam_0177</td>\n",
       "      <td>#먹어야산다#한식#이공계</td>\n",
       "      <td>0.57735</td>\n",
       "    </tr>\n",
       "    <tr>\n",
       "      <th>414</th>\n",
       "      <td>414</td>\n",
       "      <td>누리수제닭강정</td>\n",
       "      <td>Num=a_nam_990</td>\n",
       "      <td>#먹어야산다#이공계#닭강정</td>\n",
       "      <td>0.57735</td>\n",
       "    </tr>\n",
       "    <tr>\n",
       "      <th>95</th>\n",
       "      <td>95</td>\n",
       "      <td>나정순할매쭈꾸미</td>\n",
       "      <td>Num=a_nam_845</td>\n",
       "      <td>#먹어야산다#쭈꾸미#이공계#안암로터리</td>\n",
       "      <td>0.50000</td>\n",
       "    </tr>\n",
       "    <tr>\n",
       "      <th>139</th>\n",
       "      <td>139</td>\n",
       "      <td>박가네 뼈다귀 해장국</td>\n",
       "      <td>Num=a_nam_0181</td>\n",
       "      <td>#먹어야산다#한식#이공계#배달</td>\n",
       "      <td>0.50000</td>\n",
       "    </tr>\n",
       "    <tr>\n",
       "      <th>204</th>\n",
       "      <td>204</td>\n",
       "      <td>두부촌</td>\n",
       "      <td>Num=a_nam_720</td>\n",
       "      <td>#먹어야산다</td>\n",
       "      <td>0.50000</td>\n",
       "    </tr>\n",
       "    <tr>\n",
       "      <th>317</th>\n",
       "      <td>317</td>\n",
       "      <td>스시진</td>\n",
       "      <td>Num=a_nam_0205</td>\n",
       "      <td>#먹어야산다#일식#이공계#배달</td>\n",
       "      <td>0.50000</td>\n",
       "    </tr>\n",
       "    <tr>\n",
       "      <th>344</th>\n",
       "      <td>344</td>\n",
       "      <td>구룡포전어횟집</td>\n",
       "      <td>Num=a_nam_840</td>\n",
       "      <td>#먹어야산다#회</td>\n",
       "      <td>0.50000</td>\n",
       "    </tr>\n",
       "    <tr>\n",
       "      <th>345</th>\n",
       "      <td>345</td>\n",
       "      <td>산학관 학생식당</td>\n",
       "      <td>Num=a_nam_1054</td>\n",
       "      <td>#먹어야산다</td>\n",
       "      <td>0.50000</td>\n",
       "    </tr>\n",
       "    <tr>\n",
       "      <th>371</th>\n",
       "      <td>371</td>\n",
       "      <td>엄자손만두</td>\n",
       "      <td>Num=a_nam_915</td>\n",
       "      <td>#먹어야산다</td>\n",
       "      <td>0.50000</td>\n",
       "    </tr>\n",
       "    <tr>\n",
       "      <th>380</th>\n",
       "      <td>380</td>\n",
       "      <td>박쉐프의 스키야끼</td>\n",
       "      <td>Num=a_nam_725</td>\n",
       "      <td>#먹어야산다</td>\n",
       "      <td>0.50000</td>\n",
       "    </tr>\n",
       "  </tbody>\n",
       "</table>\n",
       "</div>"
      ],
      "text/plain": [
       "     Unnamed: 0           이름              코드                    태그    score\n",
       "183         183      비야 이공후문  Num=a_nam_0177         #먹어야산다#한식#이공계  0.57735\n",
       "414         414      누리수제닭강정   Num=a_nam_990        #먹어야산다#이공계#닭강정  0.57735\n",
       "95           95     나정순할매쭈꾸미   Num=a_nam_845  #먹어야산다#쭈꾸미#이공계#안암로터리  0.50000\n",
       "139         139  박가네 뼈다귀 해장국  Num=a_nam_0181      #먹어야산다#한식#이공계#배달  0.50000\n",
       "204         204          두부촌   Num=a_nam_720                #먹어야산다  0.50000\n",
       "317         317          스시진  Num=a_nam_0205      #먹어야산다#일식#이공계#배달  0.50000\n",
       "344         344      구룡포전어횟집   Num=a_nam_840              #먹어야산다#회  0.50000\n",
       "345         345     산학관 학생식당  Num=a_nam_1054                #먹어야산다  0.50000\n",
       "371         371        엄자손만두   Num=a_nam_915                #먹어야산다  0.50000\n",
       "380         380    박쉐프의 스키야끼   Num=a_nam_725                #먹어야산다  0.50000"
      ]
     },
     "execution_count": 20,
     "metadata": {},
     "output_type": "execute_result"
    }
   ],
   "source": [
    "place_REC(\"Num=a_nam_787\")"
   ]
  },
  {
   "cell_type": "code",
   "execution_count": null,
   "metadata": {},
   "outputs": [],
   "source": []
  }
 ],
 "metadata": {
  "kernelspec": {
   "display_name": "Python 3",
   "language": "python",
   "name": "python3"
  },
  "language_info": {
   "codemirror_mode": {
    "name": "ipython",
    "version": 3
   },
   "file_extension": ".py",
   "mimetype": "text/x-python",
   "name": "python",
   "nbconvert_exporter": "python",
   "pygments_lexer": "ipython3",
   "version": "3.7.7"
  }
 },
 "nbformat": 4,
 "nbformat_minor": 2
}
