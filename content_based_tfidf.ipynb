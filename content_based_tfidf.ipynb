{
 "cells": [
  {
   "cell_type": "code",
   "execution_count": 1,
   "metadata": {},
   "outputs": [],
   "source": [
    "import pandas as pd\n",
    "import numpy as np"
   ]
  },
  {
   "cell_type": "code",
   "execution_count": 2,
   "metadata": {},
   "outputs": [
    {
     "data": {
      "text/html": [
       "<div>\n",
       "<style scoped>\n",
       "    .dataframe tbody tr th:only-of-type {\n",
       "        vertical-align: middle;\n",
       "    }\n",
       "\n",
       "    .dataframe tbody tr th {\n",
       "        vertical-align: top;\n",
       "    }\n",
       "\n",
       "    .dataframe thead th {\n",
       "        text-align: right;\n",
       "    }\n",
       "</style>\n",
       "<table border=\"1\" class=\"dataframe\">\n",
       "  <thead>\n",
       "    <tr style=\"text-align: right;\">\n",
       "      <th></th>\n",
       "      <th>Unnamed: 0</th>\n",
       "      <th>이름</th>\n",
       "      <th>코드</th>\n",
       "      <th>태그</th>\n",
       "    </tr>\n",
       "  </thead>\n",
       "  <tbody>\n",
       "    <tr>\n",
       "      <th>0</th>\n",
       "      <td>0</td>\n",
       "      <td>고른햇살</td>\n",
       "      <td>Num=a_nam_0002</td>\n",
       "      <td>#먹어야산다#분식#정대후문#포장#혼밥#가성비</td>\n",
       "    </tr>\n",
       "    <tr>\n",
       "      <th>1</th>\n",
       "      <td>1</td>\n",
       "      <td>영철버거</td>\n",
       "      <td>Num=a_nam_0041</td>\n",
       "      <td>#먹어야산다#이공계#경양식#버거#맥주#치킨#가성비#저렴#포장</td>\n",
       "    </tr>\n",
       "  </tbody>\n",
       "</table>\n",
       "</div>"
      ],
      "text/plain": [
       "   Unnamed: 0    이름              코드                                 태그\n",
       "0           0  고른햇살  Num=a_nam_0002           #먹어야산다#분식#정대후문#포장#혼밥#가성비\n",
       "1           1  영철버거  Num=a_nam_0041  #먹어야산다#이공계#경양식#버거#맥주#치킨#가성비#저렴#포장"
      ]
     },
     "execution_count": 2,
     "metadata": {},
     "output_type": "execute_result"
    }
   ],
   "source": [
    "place=pd.read_csv(\"place_data.csv\")\n",
    "place.head(2)"
   ]
  },
  {
   "cell_type": "code",
   "execution_count": 3,
   "metadata": {},
   "outputs": [
    {
     "data": {
      "text/plain": [
       "(465, 4)"
      ]
     },
     "execution_count": 3,
     "metadata": {},
     "output_type": "execute_result"
    }
   ],
   "source": [
    "place.shape"
   ]
  },
  {
   "cell_type": "code",
   "execution_count": 4,
   "metadata": {
    "scrolled": true
   },
   "outputs": [
    {
     "data": {
      "text/plain": [
       "pandas.core.series.Series"
      ]
     },
     "execution_count": 4,
     "metadata": {},
     "output_type": "execute_result"
    }
   ],
   "source": [
    "type(place['태그'])"
   ]
  },
  {
   "cell_type": "code",
   "execution_count": 5,
   "metadata": {},
   "outputs": [
    {
     "data": {
      "text/html": [
       "<div>\n",
       "<style scoped>\n",
       "    .dataframe tbody tr th:only-of-type {\n",
       "        vertical-align: middle;\n",
       "    }\n",
       "\n",
       "    .dataframe tbody tr th {\n",
       "        vertical-align: top;\n",
       "    }\n",
       "\n",
       "    .dataframe thead th {\n",
       "        text-align: right;\n",
       "    }\n",
       "</style>\n",
       "<table border=\"1\" class=\"dataframe\">\n",
       "  <thead>\n",
       "    <tr style=\"text-align: right;\">\n",
       "      <th></th>\n",
       "      <th>Unnamed: 0</th>\n",
       "      <th>이름</th>\n",
       "      <th>코드</th>\n",
       "      <th>태그</th>\n",
       "      <th>tag</th>\n",
       "    </tr>\n",
       "  </thead>\n",
       "  <tbody>\n",
       "    <tr>\n",
       "      <th>0</th>\n",
       "      <td>0</td>\n",
       "      <td>고른햇살</td>\n",
       "      <td>Num=a_nam_0002</td>\n",
       "      <td>#먹어야산다#분식#정대후문#포장#혼밥#가성비</td>\n",
       "      <td>#먹어야산다#분식#정대후문#포장#혼밥#가성비</td>\n",
       "    </tr>\n",
       "    <tr>\n",
       "      <th>1</th>\n",
       "      <td>1</td>\n",
       "      <td>영철버거</td>\n",
       "      <td>Num=a_nam_0041</td>\n",
       "      <td>#먹어야산다#이공계#경양식#버거#맥주#치킨#가성비#저렴#포장</td>\n",
       "      <td>#먹어야산다#이공계#경양식#버거#맥주#치킨#가성비#저렴#포장</td>\n",
       "    </tr>\n",
       "  </tbody>\n",
       "</table>\n",
       "</div>"
      ],
      "text/plain": [
       "   Unnamed: 0    이름              코드                                 태그  \\\n",
       "0           0  고른햇살  Num=a_nam_0002           #먹어야산다#분식#정대후문#포장#혼밥#가성비   \n",
       "1           1  영철버거  Num=a_nam_0041  #먹어야산다#이공계#경양식#버거#맥주#치킨#가성비#저렴#포장   \n",
       "\n",
       "                                 tag  \n",
       "0           #먹어야산다#분식#정대후문#포장#혼밥#가성비  \n",
       "1  #먹어야산다#이공계#경양식#버거#맥주#치킨#가성비#저렴#포장  "
      ]
     },
     "execution_count": 5,
     "metadata": {},
     "output_type": "execute_result"
    }
   ],
   "source": [
    "place['tag']=place['태그'].copy()\n",
    "place.head(2)"
   ]
  },
  {
   "cell_type": "code",
   "execution_count": 6,
   "metadata": {},
   "outputs": [
    {
     "data": {
      "text/plain": [
       "'#먹어야산다#분식#정대후문#포장#혼밥#가성비'"
      ]
     },
     "execution_count": 6,
     "metadata": {},
     "output_type": "execute_result"
    }
   ],
   "source": [
    "place['tag'][0]"
   ]
  },
  {
   "cell_type": "code",
   "execution_count": 7,
   "metadata": {
    "scrolled": true
   },
   "outputs": [
    {
     "data": {
      "text/html": [
       "<div>\n",
       "<style scoped>\n",
       "    .dataframe tbody tr th:only-of-type {\n",
       "        vertical-align: middle;\n",
       "    }\n",
       "\n",
       "    .dataframe tbody tr th {\n",
       "        vertical-align: top;\n",
       "    }\n",
       "\n",
       "    .dataframe thead th {\n",
       "        text-align: right;\n",
       "    }\n",
       "</style>\n",
       "<table border=\"1\" class=\"dataframe\">\n",
       "  <thead>\n",
       "    <tr style=\"text-align: right;\">\n",
       "      <th></th>\n",
       "      <th>Unnamed: 0</th>\n",
       "      <th>이름</th>\n",
       "      <th>코드</th>\n",
       "      <th>태그</th>\n",
       "      <th>tag</th>\n",
       "    </tr>\n",
       "  </thead>\n",
       "  <tbody>\n",
       "    <tr>\n",
       "      <th>0</th>\n",
       "      <td>0</td>\n",
       "      <td>고른햇살</td>\n",
       "      <td>Num=a_nam_0002</td>\n",
       "      <td>#먹어야산다#분식#정대후문#포장#혼밥#가성비</td>\n",
       "      <td>[, 먹어야산다, 분식, 정대후문, 포장, 혼밥, 가성비]</td>\n",
       "    </tr>\n",
       "    <tr>\n",
       "      <th>1</th>\n",
       "      <td>1</td>\n",
       "      <td>영철버거</td>\n",
       "      <td>Num=a_nam_0041</td>\n",
       "      <td>#먹어야산다#이공계#경양식#버거#맥주#치킨#가성비#저렴#포장</td>\n",
       "      <td>[, 먹어야산다, 이공계, 경양식, 버거, 맥주, 치킨, 가성비, 저렴, 포장]</td>\n",
       "    </tr>\n",
       "  </tbody>\n",
       "</table>\n",
       "</div>"
      ],
      "text/plain": [
       "   Unnamed: 0    이름              코드                                 태그  \\\n",
       "0           0  고른햇살  Num=a_nam_0002           #먹어야산다#분식#정대후문#포장#혼밥#가성비   \n",
       "1           1  영철버거  Num=a_nam_0041  #먹어야산다#이공계#경양식#버거#맥주#치킨#가성비#저렴#포장   \n",
       "\n",
       "                                            tag  \n",
       "0              [, 먹어야산다, 분식, 정대후문, 포장, 혼밥, 가성비]  \n",
       "1  [, 먹어야산다, 이공계, 경양식, 버거, 맥주, 치킨, 가성비, 저렴, 포장]  "
      ]
     },
     "execution_count": 7,
     "metadata": {},
     "output_type": "execute_result"
    }
   ],
   "source": [
    "#tag를 '#'기준으로 split\n",
    "\n",
    "place['tag']=place['tag'].str.split(pat=\"#\")\n",
    "place.head(2)"
   ]
  },
  {
   "cell_type": "code",
   "execution_count": 8,
   "metadata": {
    "scrolled": true
   },
   "outputs": [
    {
     "data": {
      "text/html": [
       "<div>\n",
       "<style scoped>\n",
       "    .dataframe tbody tr th:only-of-type {\n",
       "        vertical-align: middle;\n",
       "    }\n",
       "\n",
       "    .dataframe tbody tr th {\n",
       "        vertical-align: top;\n",
       "    }\n",
       "\n",
       "    .dataframe thead th {\n",
       "        text-align: right;\n",
       "    }\n",
       "</style>\n",
       "<table border=\"1\" class=\"dataframe\">\n",
       "  <thead>\n",
       "    <tr style=\"text-align: right;\">\n",
       "      <th></th>\n",
       "      <th>Unnamed: 0</th>\n",
       "      <th>이름</th>\n",
       "      <th>코드</th>\n",
       "      <th>태그</th>\n",
       "      <th>tag</th>\n",
       "    </tr>\n",
       "  </thead>\n",
       "  <tbody>\n",
       "    <tr>\n",
       "      <th>0</th>\n",
       "      <td>0</td>\n",
       "      <td>고른햇살</td>\n",
       "      <td>Num=a_nam_0002</td>\n",
       "      <td>#먹어야산다#분식#정대후문#포장#혼밥#가성비</td>\n",
       "      <td>먹어야산다 분식 정대후문 포장 혼밥 가성비</td>\n",
       "    </tr>\n",
       "    <tr>\n",
       "      <th>1</th>\n",
       "      <td>1</td>\n",
       "      <td>영철버거</td>\n",
       "      <td>Num=a_nam_0041</td>\n",
       "      <td>#먹어야산다#이공계#경양식#버거#맥주#치킨#가성비#저렴#포장</td>\n",
       "      <td>먹어야산다 이공계 경양식 버거 맥주 치킨 가성비 저렴 포장</td>\n",
       "    </tr>\n",
       "  </tbody>\n",
       "</table>\n",
       "</div>"
      ],
      "text/plain": [
       "   Unnamed: 0    이름              코드                                 태그  \\\n",
       "0           0  고른햇살  Num=a_nam_0002           #먹어야산다#분식#정대후문#포장#혼밥#가성비   \n",
       "1           1  영철버거  Num=a_nam_0041  #먹어야산다#이공계#경양식#버거#맥주#치킨#가성비#저렴#포장   \n",
       "\n",
       "                                 tag  \n",
       "0            먹어야산다 분식 정대후문 포장 혼밥 가성비  \n",
       "1   먹어야산다 이공계 경양식 버거 맥주 치킨 가성비 저렴 포장  "
      ]
     },
     "execution_count": 8,
     "metadata": {},
     "output_type": "execute_result"
    }
   ],
   "source": [
    "#tag를 띄어쓰기 기준으로 붙이기\n",
    "\n",
    "place['tag']=place['tag'].apply(lambda x: \" \".join(x))\n",
    "place.head(2)"
   ]
  },
  {
   "cell_type": "code",
   "execution_count": 9,
   "metadata": {
    "scrolled": true
   },
   "outputs": [
    {
     "data": {
      "text/plain": [
       "0              먹어야산다 분식 정대후문 포장 혼밥 가성비\n",
       "1     먹어야산다 이공계 경양식 버거 맥주 치킨 가성비 저렴 포장\n",
       "Name: tag, dtype: object"
      ]
     },
     "execution_count": 9,
     "metadata": {},
     "output_type": "execute_result"
    }
   ],
   "source": [
    "place.tag.head(2)"
   ]
  },
  {
   "cell_type": "code",
   "execution_count": 10,
   "metadata": {},
   "outputs": [],
   "source": [
    "from sklearn.feature_extraction.text import TfidfVectorizer"
   ]
  },
  {
   "cell_type": "code",
   "execution_count": 11,
   "metadata": {},
   "outputs": [
    {
     "name": "stdout",
     "output_type": "stream",
     "text": [
      "(465, 374)\n"
     ]
    }
   ],
   "source": [
    "# tag에 대해서 tf-idf 수행\n",
    "tfidf = TfidfVectorizer()\n",
    "tfidf_matrix = tfidf.fit_transform(place.tag)\n",
    "print(tfidf_matrix.shape)"
   ]
  },
  {
   "cell_type": "code",
   "execution_count": 12,
   "metadata": {},
   "outputs": [],
   "source": [
    "#코사인 유사도\n",
    "from sklearn.metrics.pairwise import linear_kernel\n",
    "cosine_sim = linear_kernel(tfidf_matrix, tfidf_matrix)"
   ]
  },
  {
   "cell_type": "code",
   "execution_count": 13,
   "metadata": {},
   "outputs": [
    {
     "data": {
      "text/plain": [
       "(465, 465)"
      ]
     },
     "execution_count": 13,
     "metadata": {},
     "output_type": "execute_result"
    }
   ],
   "source": [
    "cosine_sim.shape"
   ]
  },
  {
   "cell_type": "code",
   "execution_count": 14,
   "metadata": {
    "scrolled": true
   },
   "outputs": [
    {
     "data": {
      "text/plain": [
       "array([[1.        , 0.1829687 , 0.32195165, ..., 0.17059754, 0.02249117,\n",
       "        0.01932993],\n",
       "       [0.1829687 , 1.        , 0.07223991, ..., 0.09000334, 0.01186583,\n",
       "        0.01019803],\n",
       "       [0.32195165, 0.07223991, 1.        , ..., 0.09322109, 0.01229005,\n",
       "        0.01056262],\n",
       "       ...,\n",
       "       [0.17059754, 0.09000334, 0.09322109, ..., 1.        , 0.13183762,\n",
       "        0.11330718],\n",
       "       [0.02249117, 0.01186583, 0.01229005, ..., 0.13183762, 1.        ,\n",
       "        0.01493815],\n",
       "       [0.01932993, 0.01019803, 0.01056262, ..., 0.11330718, 0.01493815,\n",
       "        1.        ]])"
      ]
     },
     "execution_count": 14,
     "metadata": {},
     "output_type": "execute_result"
    }
   ],
   "source": [
    "cosine_sim"
   ]
  },
  {
   "cell_type": "code",
   "execution_count": 15,
   "metadata": {},
   "outputs": [
    {
     "name": "stdout",
     "output_type": "stream",
     "text": [
      "코드\n",
      "Num=a_nam_0002      0\n",
      "Num=a_nam_0041      1\n",
      "Num=a_nam_829       2\n",
      "Num=a_nam_0146      3\n",
      "Num=a_nam_0319      4\n",
      "                 ... \n",
      "Num=a_nam_897     460\n",
      "Num=a_nam_1069    461\n",
      "Num=a_nam_1104    462\n",
      "Num=a_nam_1107    463\n",
      "Num=a_nam_1198    464\n",
      "Length: 465, dtype: int64\n"
     ]
    }
   ],
   "source": [
    "#인덱스 테이블 만들기\n",
    "#인덱스가 코드이고 인덱스 번호가 값인 판다스 시리즈 배열 선언. \n",
    "#코드 입력하면 그에 해당하는 인덱스 번호를 추출\n",
    "\n",
    "indices = pd.Series(place.index, index=place.코드).drop_duplicates()\n",
    "print(indices)"
   ]
  },
  {
   "cell_type": "code",
   "execution_count": 16,
   "metadata": {},
   "outputs": [],
   "source": [
    "#추천 함수\n",
    "\n",
    "def place_REC(코드, cosine_sim=cosine_sim):\n",
    "    #입력한 코드로 부터 인덱스 가져오기\n",
    "    idx = indices[코드]\n",
    "\n",
    "    # 모든 장소에 대해서 해당 장소와의 유사도를 구하기\n",
    "    sim_scores = list(enumerate(cosine_sim[idx]))\n",
    "\n",
    "    # 유사도에 따라 장소들을 정렬\n",
    "    sim_scores = sorted(sim_scores, key=lambda x:x[1], reverse = True)\n",
    "\n",
    "    # 가장 유사한 10개의 장소를 받아옴\n",
    "    sim_scores = sim_scores[1:11]\n",
    "\n",
    "    # 가장 유사한 10개 장소의 인덱스 받아옴\n",
    "    place_indices = [i[0] for i in sim_scores]\n",
    "    \n",
    "    #기존 데이터에서 해당 인덱스의 값들을 가져온다. 그리고 스코어 열을 추가하여 코사인 유사도도 확인할 수 있게 한다.\n",
    "    result_place = place.iloc[place_indices].copy()\n",
    "    result_place['score'] = [i[1] for i in sim_scores]\n",
    "    \n",
    "    # 읽어들인 데이터에서 tag부분만 제거, 코드와 스코어만 보이게 함\n",
    "    del result_place['tag']\n",
    "\n",
    "    # 가장 유사한 10개의 장소를 반환\n",
    "    return result_place"
   ]
  },
  {
   "cell_type": "code",
   "execution_count": 19,
   "metadata": {},
   "outputs": [
    {
     "data": {
      "text/html": [
       "<div>\n",
       "<style scoped>\n",
       "    .dataframe tbody tr th:only-of-type {\n",
       "        vertical-align: middle;\n",
       "    }\n",
       "\n",
       "    .dataframe tbody tr th {\n",
       "        vertical-align: top;\n",
       "    }\n",
       "\n",
       "    .dataframe thead th {\n",
       "        text-align: right;\n",
       "    }\n",
       "</style>\n",
       "<table border=\"1\" class=\"dataframe\">\n",
       "  <thead>\n",
       "    <tr style=\"text-align: right;\">\n",
       "      <th></th>\n",
       "      <th>Unnamed: 0</th>\n",
       "      <th>이름</th>\n",
       "      <th>코드</th>\n",
       "      <th>태그</th>\n",
       "      <th>score</th>\n",
       "    </tr>\n",
       "  </thead>\n",
       "  <tbody>\n",
       "    <tr>\n",
       "      <th>364</th>\n",
       "      <td>364</td>\n",
       "      <td>김밥천국 정대후문점</td>\n",
       "      <td>Num=a_nam_0166</td>\n",
       "      <td>#먹어야산다#분식#정대후문#포장#혼밥</td>\n",
       "      <td>0.882339</td>\n",
       "    </tr>\n",
       "    <tr>\n",
       "      <th>438</th>\n",
       "      <td>438</td>\n",
       "      <td>안암동김밥</td>\n",
       "      <td>Num=a_nam_0139</td>\n",
       "      <td>#먹어야산다#분식#정대후문</td>\n",
       "      <td>0.763456</td>\n",
       "    </tr>\n",
       "    <tr>\n",
       "      <th>94</th>\n",
       "      <td>94</td>\n",
       "      <td>절대분식</td>\n",
       "      <td>Num=a_nam_0162</td>\n",
       "      <td>#먹어야산다#분식#한식#백반#정대후문#포장#혼밥</td>\n",
       "      <td>0.731105</td>\n",
       "    </tr>\n",
       "    <tr>\n",
       "      <th>445</th>\n",
       "      <td>445</td>\n",
       "      <td>안암동김밥</td>\n",
       "      <td>Num=a_nam_0354</td>\n",
       "      <td>#먹어야산다#분식#정대후문#포장#1인분</td>\n",
       "      <td>0.611106</td>\n",
       "    </tr>\n",
       "    <tr>\n",
       "      <th>426</th>\n",
       "      <td>426</td>\n",
       "      <td>엄마네</td>\n",
       "      <td>Num=a_nam_0310</td>\n",
       "      <td>#먹어야산다#분식#법대후문#포장#혼밥</td>\n",
       "      <td>0.580730</td>\n",
       "    </tr>\n",
       "    <tr>\n",
       "      <th>170</th>\n",
       "      <td>170</td>\n",
       "      <td>두끼떡볶이 고대점</td>\n",
       "      <td>Num=a_nam_0093</td>\n",
       "      <td>#먹어야산다#분식#참살이길#포장</td>\n",
       "      <td>0.551018</td>\n",
       "    </tr>\n",
       "    <tr>\n",
       "      <th>410</th>\n",
       "      <td>410</td>\n",
       "      <td>봉구스밥버거 고려대점</td>\n",
       "      <td>Num=a_nam_0127</td>\n",
       "      <td>#먹어야산다#분식#밥버거#정대후문#포장#혼밥#저렴</td>\n",
       "      <td>0.544376</td>\n",
       "    </tr>\n",
       "    <tr>\n",
       "      <th>40</th>\n",
       "      <td>40</td>\n",
       "      <td>동네</td>\n",
       "      <td>Num=a_nam_860</td>\n",
       "      <td>#먹어야산다#한식#정대후문#백반#혼밥#저렴#가성비</td>\n",
       "      <td>0.542599</td>\n",
       "    </tr>\n",
       "    <tr>\n",
       "      <th>16</th>\n",
       "      <td>16</td>\n",
       "      <td>동우설렁탕</td>\n",
       "      <td>Num=a_nam_0116</td>\n",
       "      <td>#먹어야산다#한식#설렁탕#정대후문#포장#혼밥#회식#가성비</td>\n",
       "      <td>0.522106</td>\n",
       "    </tr>\n",
       "    <tr>\n",
       "      <th>55</th>\n",
       "      <td>55</td>\n",
       "      <td>서울쌈냉면 고대점</td>\n",
       "      <td>Num=a_nam_0120</td>\n",
       "      <td>#먹어야산다#한식#냉면#정대후문#포장#혼밥#저렴#가성비</td>\n",
       "      <td>0.496470</td>\n",
       "    </tr>\n",
       "  </tbody>\n",
       "</table>\n",
       "</div>"
      ],
      "text/plain": [
       "     Unnamed: 0           이름              코드                               태그  \\\n",
       "364         364   김밥천국 정대후문점  Num=a_nam_0166             #먹어야산다#분식#정대후문#포장#혼밥   \n",
       "438         438        안암동김밥  Num=a_nam_0139                   #먹어야산다#분식#정대후문   \n",
       "94           94         절대분식  Num=a_nam_0162       #먹어야산다#분식#한식#백반#정대후문#포장#혼밥   \n",
       "445         445        안암동김밥  Num=a_nam_0354            #먹어야산다#분식#정대후문#포장#1인분   \n",
       "426         426          엄마네  Num=a_nam_0310             #먹어야산다#분식#법대후문#포장#혼밥   \n",
       "170         170    두끼떡볶이 고대점  Num=a_nam_0093                #먹어야산다#분식#참살이길#포장   \n",
       "410         410  봉구스밥버거 고려대점  Num=a_nam_0127      #먹어야산다#분식#밥버거#정대후문#포장#혼밥#저렴   \n",
       "40           40           동네   Num=a_nam_860      #먹어야산다#한식#정대후문#백반#혼밥#저렴#가성비   \n",
       "16           16        동우설렁탕  Num=a_nam_0116  #먹어야산다#한식#설렁탕#정대후문#포장#혼밥#회식#가성비   \n",
       "55           55    서울쌈냉면 고대점  Num=a_nam_0120   #먹어야산다#한식#냉면#정대후문#포장#혼밥#저렴#가성비   \n",
       "\n",
       "        score  \n",
       "364  0.882339  \n",
       "438  0.763456  \n",
       "94   0.731105  \n",
       "445  0.611106  \n",
       "426  0.580730  \n",
       "170  0.551018  \n",
       "410  0.544376  \n",
       "40   0.542599  \n",
       "16   0.522106  \n",
       "55   0.496470  "
      ]
     },
     "execution_count": 19,
     "metadata": {},
     "output_type": "execute_result"
    }
   ],
   "source": [
    "place_REC(\"Num=a_nam_0002\")"
   ]
  },
  {
   "cell_type": "code",
   "execution_count": null,
   "metadata": {},
   "outputs": [],
   "source": []
  }
 ],
 "metadata": {
  "kernelspec": {
   "display_name": "Python 3",
   "language": "python",
   "name": "python3"
  },
  "language_info": {
   "codemirror_mode": {
    "name": "ipython",
    "version": 3
   },
   "file_extension": ".py",
   "mimetype": "text/x-python",
   "name": "python",
   "nbconvert_exporter": "python",
   "pygments_lexer": "ipython3",
   "version": "3.7.7"
  }
 },
 "nbformat": 4,
 "nbformat_minor": 2
}
